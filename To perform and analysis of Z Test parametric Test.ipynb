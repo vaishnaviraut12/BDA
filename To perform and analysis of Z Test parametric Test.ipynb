{
 "cells": [
  {
   "cell_type": "code",
   "execution_count": 1,
   "id": "07c952ee",
   "metadata": {},
   "outputs": [],
   "source": [
    "#Exp no.:4"
   ]
  },
  {
   "cell_type": "code",
   "execution_count": 2,
   "id": "c31b76a0",
   "metadata": {},
   "outputs": [],
   "source": [
    "#Aim:To perform and analysis of Z Test parametric Test"
   ]
  },
  {
   "cell_type": "code",
   "execution_count": 3,
   "id": "546cca1b",
   "metadata": {},
   "outputs": [],
   "source": [
    "#Name:Riya Anand Kedar\n",
    "#Roll No.:7\n",
    "#Sec: 3B\n",
    "#Subject:ET - 2"
   ]
  },
  {
   "cell_type": "code",
   "execution_count": 4,
   "id": "3466c102",
   "metadata": {},
   "outputs": [],
   "source": [
    "# Importing the required libraries  \n",
    "import pandas as pd  \n",
    "from scipy import stats  \n",
    "from statsmodels.stats import weightstats as stests  "
   ]
  },
  {
   "cell_type": "code",
   "execution_count": 5,
   "id": "e58f868a",
   "metadata": {},
   "outputs": [],
   "source": [
    "# Creating a dataset  \n",
    "data = [89, 93, 95, 93, 97, 98, 96, 99, 93, 97,  \n",
    " 110, 104, 119, 105, 104, 110, 110, 112, 115, 114]"
   ]
  },
  {
   "cell_type": "code",
   "execution_count": 6,
   "id": "c1e921c9",
   "metadata": {},
   "outputs": [
    {
     "name": "stdout",
     "output_type": "stream",
     "text": [
      "2.417334226169332e-186\n"
     ]
    }
   ],
   "source": [
    "z_test ,p_val = stests.ztest(data, x2 = None, value = 160)\n",
    "print(p_val)  "
   ]
  },
  {
   "cell_type": "code",
   "execution_count": 7,
   "id": "01028e61",
   "metadata": {},
   "outputs": [
    {
     "name": "stdout",
     "output_type": "stream",
     "text": [
      "We can reject the null hypothesis\n"
     ]
    }
   ],
   "source": [
    "# taking the threshold value as 0.05 or 5%  \n",
    "if p_val < 0.05:  \n",
    " print(\"We can reject the null hypothesis\")  \n",
    "else:  \n",
    " print(\"We can accept the null hypothesis\")  "
   ]
  },
  {
   "cell_type": "code",
   "execution_count": null,
   "id": "a1109953",
   "metadata": {},
   "outputs": [],
   "source": []
  },
  {
   "cell_type": "code",
   "execution_count": null,
   "id": "724bd2a8",
   "metadata": {},
   "outputs": [],
   "source": []
  }
 ],
 "metadata": {
  "kernelspec": {
   "display_name": "Python 3 (ipykernel)",
   "language": "python",
   "name": "python3"
  },
  "language_info": {
   "codemirror_mode": {
    "name": "ipython",
    "version": 3
   },
   "file_extension": ".py",
   "mimetype": "text/x-python",
   "name": "python",
   "nbconvert_exporter": "python",
   "pygments_lexer": "ipython3",
   "version": "3.11.7"
  }
 },
 "nbformat": 4,
 "nbformat_minor": 5
}
